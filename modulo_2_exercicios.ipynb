{
  "nbformat": 4,
  "nbformat_minor": 0,
  "metadata": {
    "colab": {
      "name": "modulo_2_exercicios.ipynb",
      "provenance": [],
      "collapsed_sections": [
        "KJqp9AANOCtf",
        "d9jDtUbDOE1-"
      ],
      "toc_visible": true,
      "include_colab_link": true
    },
    "kernelspec": {
      "name": "python3",
      "display_name": "Python 3"
    }
  },
  "cells": [
    {
      "cell_type": "markdown",
      "metadata": {
        "id": "view-in-github",
        "colab_type": "text"
      },
      "source": [
        "<a href=\"https://colab.research.google.com/github/AlessandroLurre/volta-zero/blob/main/modulo_2_exercicios.ipynb\" target=\"_parent\"><img src=\"https://colab.research.google.com/assets/colab-badge.svg\" alt=\"Open In Colab\"/></a>"
      ]
    },
    {
      "cell_type": "markdown",
      "metadata": {
        "id": "KJqp9AANOCtf"
      },
      "source": [
        "<img src=\"https://raw.githubusercontent.com/andre-marcos-perez/ebac-course-utils/main/media/logo/newebac_logo_black_half.png\" alt=\"ebac-logo\">\n",
        "\n",
        "---\n",
        "\n",
        "# **Módulo 02** | Python: Estruturas de Dados\n",
        "Caderno de **Exercícios**<br> \n",
        "Professor [André Perez](https://www.linkedin.com/in/andremarcosperez/)\n",
        "\n",
        "---"
      ]
    },
    {
      "cell_type": "markdown",
      "metadata": {
        "id": "d9jDtUbDOE1-"
      },
      "source": [
        "# **Tópicos**\n",
        "\n",
        "<ol type=\"1\">\n",
        "  <li>Listas;</li>\n",
        "  <li>Conjuntos;</li>\n",
        "  <li>Dicionários.</li>\n",
        "</ol>"
      ]
    },
    {
      "cell_type": "markdown",
      "metadata": {
        "id": "SmoHgt-lwkpD"
      },
      "source": [
        "---"
      ]
    },
    {
      "cell_type": "markdown",
      "metadata": {
        "id": "GABI6OW8OfQ2"
      },
      "source": [
        "# **Exercícios**"
      ]
    },
    {
      "cell_type": "markdown",
      "metadata": {
        "id": "muD1vxozykSC"
      },
      "source": [
        "## 1\\. Listas"
      ]
    },
    {
      "cell_type": "markdown",
      "metadata": {
        "id": "ahrFfCuBxJKs"
      },
      "source": [
        "Criei uma lista chamada `filmes` com o nome dos 10 primeiros filmes mais bem avaliados no site no [IMDB](https://www.imdb.com/chart/top/). Imprima o resultado."
      ]
    },
    {
      "cell_type": "code",
      "source": [
        "filme_1 = ['Um sonhos de liberdade']\n",
        "filme_2 = ['O poderoso chefão']\n",
        "filme_3 = ['O Poderoso Chefão II']\n",
        "filme_4 = ['Batman']\n",
        "filme_5 = ['12 homens e uma sentenca']\n",
        "filme_6 = ['A lista de Schindler']\n",
        "filme_7 = ['O senhor dos aneis_O retorno do rei']\n",
        "filme_8 = ['Pulp fiction']\n",
        "filme_9 = ['Três homens em conflito']\n",
        "filme_10 = ['O senhor do aneis_A sociedade do anel']\n",
        "\n",
        "filme_top10 = filme_1 + filme_2 + filme_3 + filme_4 + filme_5 + filme_6 + filme_7 + filme_8 + filme_9 + filme_10\n",
        "print(filme_top10)\n",
        "print(len(filme_top10))"
      ],
      "metadata": {
        "colab": {
          "base_uri": "https://localhost:8080/"
        },
        "id": "sBxePm9KoDe2",
        "outputId": "7dfddd67-6ced-401b-c4f3-c607c512ecc8"
      },
      "execution_count": 11,
      "outputs": [
        {
          "output_type": "stream",
          "name": "stdout",
          "text": [
            "['Um sonhos de liberdade', 'O poderoso chefão', 'O Poderoso Chefão II', 'Batman', '12 homens e uma sentenca', 'A lista de Schindler', 'O senhor dos aneis_O retorno do rei', 'Pulp fiction', 'Três homens em conflito', 'O senhor do aneis_A sociedade do anel']\n",
            "10\n"
          ]
        }
      ]
    },
    {
      "cell_type": "markdown",
      "metadata": {
        "id": "KI9zQRT2xa7m"
      },
      "source": [
        "Simule a movimentação do *ranking*. Utilize os métodos `insert` e `pop` para trocar a posição do primeiro e do segundo filme da lista. Imprima o resultado.\n",
        "\n"
      ]
    },
    {
      "cell_type": "code",
      "source": [
        "filme_top10.insert(0,'O poderoso chefão')\n",
        "filme_top10.pop(2)\n",
        "print(filme_top10)\n",
        "print(len(filme_top10))"
      ],
      "metadata": {
        "colab": {
          "base_uri": "https://localhost:8080/"
        },
        "id": "3wzgS6tFw_3M",
        "outputId": "c132a8b7-a040-4a24-e2f6-07898e7693f0"
      },
      "execution_count": 14,
      "outputs": [
        {
          "output_type": "stream",
          "name": "stdout",
          "text": [
            "['O poderoso chefão', 'O poderoso chefão', 'O Poderoso Chefão II', 'Batman', '12 homens e uma sentenca', 'A lista de Schindler', 'O senhor dos aneis_O retorno do rei', 'Pulp fiction', 'Três homens em conflito', 'O senhor do aneis_A sociedade do anel']\n",
            "10\n"
          ]
        }
      ]
    },
    {
      "cell_type": "markdown",
      "metadata": {
        "id": "zMN1Q3jdwoJm"
      },
      "source": [
        "---"
      ]
    },
    {
      "cell_type": "markdown",
      "metadata": {
        "id": "lxa5L6uF0ZJE"
      },
      "source": [
        "## 2\\. Conjuntos"
      ]
    },
    {
      "cell_type": "markdown",
      "metadata": {
        "id": "9JahS2Kj0d5u"
      },
      "source": [
        "Aconteceu um erro no seu *ranking*. Simule a duplicação dos três últimos filmes da lista. Imprima o resultado."
      ]
    },
    {
      "cell_type": "code",
      "metadata": {
        "id": "BnjnLBNC6PGe",
        "colab": {
          "base_uri": "https://localhost:8080/"
        },
        "outputId": "9f0e1142-7b52-4b49-bc1f-d94fbae1d6a6"
      },
      "source": [
        "filmes_1 = ['O poderoso chefão', 'Um sonhos de liberdade', 'O Poderoso Chefão II']\n",
        "filmes_2 = ['Batman', '12 homens e uma sentença', 'A lista de Schindler']\n",
        "filmes_3 = ['O senhor dos aneis_O retorno do rei', 'Pulp fiction', 'Três homens em conflito', 'O Senhor dos Anéis_A Sociedade do Anel']\n",
        "filmes_4 = ['Pulp fiction', 'Três homens em conflito', 'O Senhor dos Anéis_A Sociedade do Anel']\n",
        "\n",
        "filmes_geral = filmes_1 + filmes_2 + filmes_3 + filmes_4\n",
        "print(filmes_geral)\n",
        "print(len(filmes_geral))\n"
      ],
      "execution_count": 6,
      "outputs": [
        {
          "output_type": "stream",
          "name": "stdout",
          "text": [
            "['O poderoso chefão', 'Um sonhos de liberdade', 'O Poderoso Chefão II', 'Batman', '12 homens e uma sentença', 'A lista de Schindler', 'O senhor dos aneis_O retorno do rei', 'Pulp fiction', 'Três homens em conflito', 'O Senhor dos Anéis_A Sociedade do Anel', 'Pulp fiction', 'Três homens em conflito', 'O Senhor dos Anéis_A Sociedade do Anel']\n",
            "13\n"
          ]
        }
      ]
    },
    {
      "cell_type": "markdown",
      "metadata": {
        "id": "suxTfCJB6ZiX"
      },
      "source": [
        "Utiliza a conversão `set` e `list` para remover os valores duplicados. Imprima o resultado. "
      ]
    },
    {
      "cell_type": "code",
      "metadata": {
        "id": "ZvUGN-0n6joM",
        "colab": {
          "base_uri": "https://localhost:8080/"
        },
        "outputId": "ab9b7b9d-8fc5-4114-aa63-53f47a8007e2"
      },
      "source": [
        "filmes_1 = ['O poderoso chefão', 'Um sonhos de liberdade', 'O Poderoso Chefão II']\n",
        "filmes_2 = ['Batman', '12 homens e uma sentença', 'A lista de Schindler']\n",
        "filmes_3 = ['O senhor dos aneis_O retorno do rei', 'Pulp fiction', 'Três homens em conflito', 'O Senhor dos Anéis_A Sociedade do Anel']\n",
        "filmes_4 = ['Pulp fiction', 'Três homens em conflito', 'O Senhor dos Anéis_A Sociedade do Anel']\n",
        "\n",
        "filmes_geral = list(set(filmes_1 + filmes_2 + filmes_3 + filmes_4))\n",
        "print(filmes_geral)\n",
        "print(len(filmes_geral))"
      ],
      "execution_count": 7,
      "outputs": [
        {
          "output_type": "stream",
          "name": "stdout",
          "text": [
            "['A lista de Schindler', '12 homens e uma sentença', 'O Poderoso Chefão II', 'O senhor dos aneis_O retorno do rei', 'O poderoso chefão', 'Três homens em conflito', 'Batman', 'Pulp fiction', 'Um sonhos de liberdade', 'O Senhor dos Anéis_A Sociedade do Anel']\n",
            "10\n"
          ]
        }
      ]
    },
    {
      "cell_type": "markdown",
      "metadata": {
        "id": "ShkK35eQ6pAM"
      },
      "source": [
        "---"
      ]
    },
    {
      "cell_type": "markdown",
      "metadata": {
        "id": "EL_FzmxL6rTv"
      },
      "source": [
        "## 3\\. Dicionários"
      ]
    },
    {
      "cell_type": "markdown",
      "metadata": {
        "id": "i8l0gFqRCpfT"
      },
      "source": [
        "Repita os exercícios da parte 1 (listas). Os elementos da lista `filmes` devem ser dicionários no seguinte formato: `{'nome': <nome-do-filme>, 'ano': <ano do filme>}, 'sinopse': <sinopse do filme>}`. "
      ]
    },
    {
      "cell_type": "code",
      "source": [
        "filme = {\n",
        "    'nome': 'Um sonho de liberdade',\n",
        "    'ano': 1994,\n",
        "    'sinopse': 'Dois homens presos se reúnem ao longo de vários anos, encontrando consolo e eventual redenção através de atos de decência comum.',\n",
        "    'director': 'Frank Darabont',\n",
        "}\n",
        "print(filme)\n",
        "    "
      ],
      "metadata": {
        "colab": {
          "base_uri": "https://localhost:8080/"
        },
        "id": "K0cn3uyU5SqE",
        "outputId": "94de823f-6d61-4ef1-9ea5-a027fed4b5a0"
      },
      "execution_count": 18,
      "outputs": [
        {
          "output_type": "stream",
          "name": "stdout",
          "text": [
            "{'nome': 'Um sonho de liberdade', 'ano': 1994, 'sinopse': 'Dois homens presos se reúnem ao longo de vários anos, encontrando consolo e eventual redenção através de atos de decência comum.', 'director': 'Frank Darabont'}\n"
          ]
        }
      ]
    }
  ]
}